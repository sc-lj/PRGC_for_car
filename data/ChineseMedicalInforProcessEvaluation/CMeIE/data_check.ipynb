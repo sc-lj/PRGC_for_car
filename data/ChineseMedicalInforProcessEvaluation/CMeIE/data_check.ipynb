{
 "cells": [
  {
   "cell_type": "code",
   "execution_count": 9,
   "metadata": {},
   "outputs": [],
   "source": [
    "import json\n",
    "with open(\"CMeIE_train.jsonl\",'r') as f:\n",
    "    lines = f.readlines()\n",
    "\n",
    "sub_entities_type = []\n",
    "obj_entities_type = []\n",
    "relations = []\n",
    "for i,line in enumerate(lines):\n",
    "    line = json.loads(line)\n",
    "    text = line['text']\n",
    "    for l in line['spo_list']:\n",
    "        sub = l['subject']\n",
    "        obj = l['object']['@value']\n",
    "        # if sub in obj or obj in sub:\n",
    "            # print(i,sub,obj,text)\n",
    "        relations.append(l['predicate'])\n",
    "        sub_entities_type.append(l['subject_type'])\n",
    "        obj_entities_type.append(l['object_type']['@value'])\n",
    "\n"
   ]
  },
  {
   "cell_type": "code",
   "execution_count": 19,
   "metadata": {},
   "outputs": [],
   "source": [
    "entities_type = sorted(set(obj_entities_type+sub_entities_type))\n",
    "obj_entities_type = sorted(set(obj_entities_type))\n",
    "sub_entities_type = sorted(set(sub_entities_type))\n"
   ]
  },
  {
   "cell_type": "code",
   "execution_count": 15,
   "metadata": {},
   "outputs": [],
   "source": [
    "relations = sorted(set(relations))"
   ]
  },
  {
   "cell_type": "code",
   "execution_count": 20,
   "metadata": {},
   "outputs": [],
   "source": [
    "rel2id = {rel:i for i,rel in enumerate(relations)}\n",
    "objent2id = {o:i for i,o in enumerate(obj_entities_type)}\n",
    "subent2id = {s:i for i,s in enumerate(sub_entities_type)}\n",
    "ent2id = {e:i for i,e in enumerate(entities_type)}\n"
   ]
  },
  {
   "cell_type": "code",
   "execution_count": 18,
   "metadata": {},
   "outputs": [],
   "source": [
    "with open(\"rel2id.json\",'w') as f:\n",
    "    json.dump(rel2id,f,ensure_ascii=False)"
   ]
  },
  {
   "cell_type": "code",
   "execution_count": 21,
   "metadata": {},
   "outputs": [],
   "source": [
    "with open(\"ent2id.json\",'w') as f:\n",
    "    json.dump({\"ent2id\":ent2id,\"objent2id\":objent2id,\"subent2id\":subent2id},f,ensure_ascii=False)\n",
    "    "
   ]
  },
  {
   "cell_type": "code",
   "execution_count": null,
   "metadata": {},
   "outputs": [],
   "source": []
  }
 ],
 "metadata": {
  "interpreter": {
   "hash": "c07b6868979a7342da614920d2cacfd5d4762f055d8704433794e00565ab8346"
  },
  "kernelspec": {
   "display_name": "Python 3.8.13 ('text')",
   "language": "python",
   "name": "python3"
  },
  "language_info": {
   "codemirror_mode": {
    "name": "ipython",
    "version": 3
   },
   "file_extension": ".py",
   "mimetype": "text/x-python",
   "name": "python",
   "nbconvert_exporter": "python",
   "pygments_lexer": "ipython3",
   "version": "3.8.13"
  },
  "orig_nbformat": 4
 },
 "nbformat": 4,
 "nbformat_minor": 2
}
